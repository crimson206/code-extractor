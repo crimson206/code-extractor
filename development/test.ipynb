{
 "cells": [
  {
   "cell_type": "code",
   "execution_count": 1,
   "metadata": {},
   "outputs": [],
   "source": [
    "from crimson.code_extractor.func_info import (\n",
    "    extract_return_type,\n",
    "    extract_arg_info,\n",
    "    extract_return_info\n",
    ")"
   ]
  },
  {
   "cell_type": "code",
   "execution_count": 3,
   "metadata": {},
   "outputs": [
    {
     "data": {
      "text/plain": [
       "['int',\n",
       " None,\n",
       " [{'name': 'arg1', 'type_hint': 'int', 'default': '1'},\n",
       "  {'name': 'arg2', 'type_hint': 'Dict[str, A]', 'default': \"{'hi': A()}\"}]]"
      ]
     },
     "execution_count": 3,
     "metadata": {},
     "output_type": "execute_result"
    }
   ],
   "source": [
    "from example import example_func\n",
    "import inspect\n",
    "\n",
    "source = inspect.getsource(example_func)\n",
    "\n",
    "[\n",
    "    extract_return_type(source),\n",
    "    extract_return_info(source),\n",
    "    extract_arg_info(source)\n",
    "]"
   ]
  },
  {
   "cell_type": "code",
   "execution_count": null,
   "metadata": {},
   "outputs": [],
   "source": []
  }
 ],
 "metadata": {
  "kernelspec": {
   "display_name": "code-extractor",
   "language": "python",
   "name": "python3"
  },
  "language_info": {
   "codemirror_mode": {
    "name": "ipython",
    "version": 3
   },
   "file_extension": ".py",
   "mimetype": "text/x-python",
   "name": "python",
   "nbconvert_exporter": "python",
   "pygments_lexer": "ipython3",
   "version": "3.10.14"
  }
 },
 "nbformat": 4,
 "nbformat_minor": 2
}
