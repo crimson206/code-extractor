{
 "cells": [
  {
   "cell_type": "code",
   "execution_count": null,
   "metadata": {},
   "outputs": [],
   "source": [
    "from typing import Dict, Union, Literal, Tuple, Generator, List\n",
    "from pydantic import BaseModel\n",
    "import tokenize\n",
    "from io import StringIO\n",
    "import inspect\n",
    "\n",
    "\n",
    "class _Tokenize:\n",
    "    @classmethod\n",
    "    def _get_tokens(cls, function_block: str):\n",
    "        tokens = tokenize.generate_tokens(StringIO(function_block).readline)\n",
    "        return tokens\n",
    "\n",
    "    @classmethod\n",
    "    def get_token_info(cls, function_block):\n",
    "        tokens = cls._get_tokens(function_block)\n",
    "        items = []\n",
    "        for toknum, tokval, start, end, _ in tokens:\n",
    "            items.append({\n",
    "                'Type': tokenize.tok_name[toknum],\n",
    "                'Value': tokval,\n",
    "                'Start Line': start[0],\n",
    "                'Start Column': start[1],\n",
    "                'End Line': end[0],\n",
    "                'End Column': end[1]\n",
    "            })\n",
    "        return items"
   ]
  }
 ],
 "metadata": {
  "kernelspec": {
   "display_name": "type-tool",
   "language": "python",
   "name": "python3"
  },
  "language_info": {
   "name": "python",
   "version": "3.1.-1"
  }
 },
 "nbformat": 4,
 "nbformat_minor": 2
}
